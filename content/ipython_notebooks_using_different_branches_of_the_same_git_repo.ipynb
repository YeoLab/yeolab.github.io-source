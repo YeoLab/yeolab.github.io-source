{
 "metadata": {
  "name": "",
  "signature": "sha256:9ca912040b96fd2380c218422464f7a401ad34935bfc0bef9a1abe60134ffaa5"
 },
 "nbformat": 3,
 "nbformat_minor": 0,
 "worksheets": [
  {
   "cells": [
    {
     "cell_type": "markdown",
     "metadata": {},
     "source": [
      "Lately, I've been working on several different features of the the [flotilla](http://github.com/yeolab/flotilla) code at once. It was getting frustrating because I'd have quite a few [IPython](http://ipython.org/) notebooks open, testing the different features, but these features take some computation time and I would want to work on another feature while one was computing. But, this became a problem beause I install the package using \"editable\" or \"develop\" mode using [`pip install -e .`](http://pip.readthedocs.org/en/latest/reference/pip_install.html#editable-installs), which, instead of copying the code from the source directory to Python's `site-packages` directory, makes a soft link from `site-packages`. So any changes you make in your source files, they get automatically updated in the \"installed\" package! Coupled with IPython's [autoreload](http://ipython.org/ipython-doc/stable/config/extensions/autoreload.html), this becomes an incredibly powerful development tool, as you can test out new functions in IPython without reinstalling packages or restarting your kernel! HUGE time savings! (Thanks to [Jeff Tratner](https://twitter.com/jtratner) who I met last year at [PyData](http://pydata.org/nyc2013) for showing me this)\n",
      "\n",
      "Anyways, the \"editable\" mode and `autoreload` sometimes collide, and you get this kind of error:\n",
      "\n",
      "    TypeError: super(type, obj): obj must be an instance or subtype of type\n",
      "    \n",
      "This is a wonderfully cryptic error. It happens because, as far as I understand `autoreload`, IPython, and Python's internals (and the developers that know better please correct me if I'm wrong), Python hashes all objects when importing a library. We use a lot of object orientation in `flotilla`, so when we change some code in the parent class, then the child is no longer an instance of the old hash of the parent class. I kept getting these errors when switching between branches and notebooks and got so tired of it that I finally for help on Twitter.\n",
      "\n",
      "<blockquote class=\"twitter-tweet\" lang=\"en\"><p>What&#39;s the best way to use different git branches in different <a href=\"https://twitter.com/IPythonDev\">@IPythonDev</a> notebooks? Is this even possible?</p>&mdash; Olga Botvinnik (@olgabot) <a href=\"https://twitter.com/olgabot/status/532278626612678656\">November 11, 2014</a></blockquote>\n",
      "<script async src=\"//platform.twitter.com/widgets.js\" charset=\"utf-8\"></script>\n",
      "\n",
      "[Paul Ivanov](https://twitter.com/ivanov), a [matplotlib](http://matplotlib.org) and IPython developer, responded!\n",
      "\n",
      "<blockquote class=\"twitter-tweet\" data-conversation=\"none\" lang=\"en\"><p><a href=\"https://twitter.com/olgabot\">@olgabot</a> <a href=\"https://twitter.com/IPythonDev\">@IPythonDev</a> use multiple dirs that you `git clone --shared` from your main repo, checking out different branch in each dir.</p>&mdash; Paul Ivanov (@ivanov) <a href=\"https://twitter.com/ivanov/status/532281223503446016\">November 11, 2014</a></blockquote>\n",
      "<script async src=\"//platform.twitter.com/widgets.js\" charset=\"utf-8\"></script>\n",
      "\n",
      "After some [clarification](https://twitter.com/ivanov/status/532281223503446016), I started using it. Here's what I did. First, let's navigate to my `flotilla` directory."
     ]
    },
    {
     "cell_type": "code",
     "collapsed": false,
     "input": [
      "cd ~/workspace-git/flotilla"
     ],
     "language": "python",
     "metadata": {},
     "outputs": [
      {
       "output_type": "stream",
       "stream": "stdout",
       "text": [
        "/Users/olga/workspace-git/flotilla\n"
       ]
      }
     ],
     "prompt_number": 1
    },
    {
     "cell_type": "markdown",
     "metadata": {},
     "source": [
      "I keep all my IPython notebooks in Dropbox just in case my computer dies, then my research can still live. Let's clone the branch `filter_splicing_on_expression` to the `flotilla` sub-folder of my Dropbox, i.e. to `~/Dropbox/ipython/flotilla/filter_splicing_on_expression`."
     ]
    },
    {
     "cell_type": "code",
     "collapsed": false,
     "input": [
      "! git clone --shared -b filter_splicing_on_expression . ~/Dropbox/ipython/flotilla/filter_splicing_on_expression"
     ],
     "language": "python",
     "metadata": {},
     "outputs": [
      {
       "output_type": "stream",
       "stream": "stdout",
       "text": [
        "Cloning into '/Users/olga/Dropbox/ipython/flotilla/filter_splicing_on_expression'...\r\n"
       ]
      },
      {
       "output_type": "stream",
       "stream": "stdout",
       "text": [
        "remote: Counting objects: 8010, done.\u001b[K\r\n"
       ]
      },
      {
       "output_type": "stream",
       "stream": "stdout",
       "text": [
        "remote: Compressing objects:   0% (1/2889)   \u001b[K\r",
        "remote: Compressing objects:   1% (29/2889)   \u001b[K\r"
       ]
      },
      {
       "output_type": "stream",
       "stream": "stdout",
       "text": [
        "remote: Compressing objects:   2% (58/2889)   \u001b[K\r",
        "remote: Compressing objects:   3% (87/2889)   \u001b[K\r",
        "remote: Compressing objects:   4% (116/2889)   \u001b[K\r",
        "remote: Compressing objects:   5% (145/2889)   \u001b[K\r",
        "remote: Compressing objects:   6% (174/2889)   \u001b[K\r",
        "remote: Compressing objects:   7% (203/2889)   \u001b[K\r",
        "remote: Compressing objects:   8% (232/2889)   \u001b[K\r",
        "remote: Compressing objects:   9% (261/2889)   \u001b[K\r",
        "remote: Compressing objects:  10% (289/2889)   \u001b[K\r",
        "remote: Compressing objects:  11% (318/2889)   \u001b[K\r",
        "remote: Compressing objects:  12% (347/2889)   \u001b[K\r",
        "remote: Compressing objects:  13% (376/2889)   \u001b[K\r",
        "remote: Compressing objects:  14% (405/2889)   \u001b[K\r",
        "remote: Compressing objects:  15% (434/2889)   \u001b[K\r",
        "remote: Compressing objects:  16% (463/2889)   \u001b[K\r",
        "remote: Compressing objects:  17% (492/2889)   \u001b[K\r",
        "remote: Compressing objects:  18% (521/2889)   \u001b[K\r",
        "remote: Compressing objects:  19% (549/2889)   \u001b[K\r",
        "remote: Compressing objects:  20% (578/2889)   \u001b[K\r",
        "remote: Compressing objects:  21% (607/2889)   \u001b[K\r"
       ]
      },
      {
       "output_type": "stream",
       "stream": "stdout",
       "text": [
        "remote: Compressing objects:  22% (636/2889)   \u001b[K\r",
        "remote: Compressing objects:  23% (665/2889)   \u001b[K\r",
        "remote: Compressing objects:  24% (694/2889)   \u001b[K\r",
        "remote: Compressing objects:  25% (723/2889)   \u001b[K\r",
        "remote: Compressing objects:  26% (752/2889)   \u001b[K\r",
        "remote: Compressing objects:  27% (781/2889)   \u001b[K\r",
        "remote: Compressing objects:  28% (809/2889)   \u001b[K\r",
        "remote: Compressing objects:  29% (838/2889)   \u001b[K\r",
        "remote: Compressing objects:  30% (867/2889)   \u001b[K\r",
        "remote: Compressing objects:  31% (896/2889)   \u001b[K\r",
        "remote: Compressing objects:  32% (925/2889)   \u001b[K\r",
        "remote: Compressing objects:  33% (954/2889)   \u001b[K\r",
        "remote: Compressing objects:  34% (983/2889)   \u001b[K\r",
        "remote: Compressing objects:  35% (1012/2889)   \u001b[K\r",
        "remote: Compressing objects:  36% (1041/2889)   \u001b[K\r",
        "remote: Compressing objects:  37% (1069/2889)   \u001b[K\r",
        "remote: Compressing objects:  38% (1098/2889)   \u001b[K\r",
        "remote: Compressing objects:  39% (1127/2889)   \u001b[K\r",
        "remote: Compressing objects:  40% (1156/2889)   \u001b[K\r",
        "remote: Compressing objects:  41% (1185/2889)   \u001b[K\r",
        "remote: Compressing objects:  42% (1214/2889)   \u001b[K\r",
        "remote: Compressing objects:  43% (1243/2889)   \u001b[K\r",
        "remote: Compressing objects:  44% (1272/2889)   \u001b[K\r",
        "remote: Compressing objects:  45% (1301/2889)   \u001b[K\r",
        "remote: Compressing objects:  46% (1329/2889)   \u001b[K\r",
        "remote: Compressing objects:  47% (1358/2889)   \u001b[K\r",
        "remote: Compressing objects:  48% (1387/2889)   \u001b[K\r",
        "remote: Compressing objects:  49% (1416/2889)   \u001b[K\r",
        "remote: Compressing objects:  50% (1445/2889)   \u001b[K\r",
        "remote: Compressing objects:  51% (1474/2889)   \u001b[K\r"
       ]
      },
      {
       "output_type": "stream",
       "stream": "stdout",
       "text": [
        "remote: Compressing objects:  52% (1503/2889)   \u001b[K\r",
        "remote: Compressing objects:  53% (1532/2889)   \u001b[K\r",
        "remote: Compressing objects:  54% (1561/2889)   \u001b[K\r",
        "remote: Compressing objects:  55% (1589/2889)   \u001b[K\r",
        "remote: Compressing objects:  56% (1618/2889)   \u001b[K\r",
        "remote: Compressing objects:  57% (1647/2889)   \u001b[K\r",
        "remote: Compressing objects:  58% (1676/2889)   \u001b[K\r",
        "remote: Compressing objects:  59% (1705/2889)   \u001b[K\r",
        "remote: Compressing objects:  60% (1734/2889)   \u001b[K\r",
        "remote: Compressing objects:  61% (1763/2889)   \u001b[K\r",
        "remote: Compressing objects:  62% (1792/2889)   \u001b[K\r",
        "remote: Compressing objects:  63% (1821/2889)   \u001b[K\r",
        "remote: Compressing objects:  64% (1849/2889)   \u001b[K\r",
        "remote: Compressing objects:  65% (1878/2889)   \u001b[K\r",
        "remote: Compressing objects:  66% (1907/2889)   \u001b[K\r",
        "remote: Compressing objects:  67% (1936/2889)   \u001b[K\r",
        "remote: Compressing objects:  68% (1965/2889)   \u001b[K\r",
        "remote: Compressing objects:  69% (1994/2889)   \u001b[K\r",
        "remote: Compressing objects:  70% (2023/2889)   \u001b[K\r",
        "remote: Compressing objects:  71% (2052/2889)   \u001b[K\r",
        "remote: Compressing objects:  72% (2081/2889)   \u001b[K\r",
        "remote: Compressing objects:  73% (2109/2889)   \u001b[K\r",
        "remote: Compressing objects:  74% (2138/2889)   \u001b[K\r",
        "remote: Compressing objects:  75% (2167/2889)   \u001b[K\r",
        "remote: Compressing objects:  76% (2196/2889)   \u001b[K\r",
        "remote: Compressing objects:  77% (2225/2889)   \u001b[K\r",
        "remote: Compressing objects:  78% (2254/2889)   \u001b[K\r"
       ]
      },
      {
       "output_type": "stream",
       "stream": "stdout",
       "text": [
        "remote: Compressing objects:  79% (2283/2889)   \u001b[K\r",
        "remote: Compressing objects:  80% (2312/2889)   \u001b[K\r",
        "remote: Compressing objects:  81% (2341/2889)   \u001b[K\r",
        "remote: Compressing objects:  82% (2369/2889)   \u001b[K\r",
        "remote: Compressing objects:  83% (2398/2889)   \u001b[K\r",
        "remote: Compressing objects:  84% (2427/2889)   \u001b[K\r"
       ]
      },
      {
       "output_type": "stream",
       "stream": "stdout",
       "text": [
        "remote: Compressing objects:  85% (2456/2889)   \u001b[K\r",
        "remote: Compressing objects:  86% (2485/2889)   \u001b[K\r",
        "remote: Compressing objects:  87% (2514/2889)   \u001b[K\r",
        "remote: Compressing objects:  88% (2543/2889)   \u001b[K\r",
        "remote: Compressing objects:  89% (2572/2889)   \u001b[K\r",
        "remote: Compressing objects:  90% (2601/2889)   \u001b[K\r"
       ]
      },
      {
       "output_type": "stream",
       "stream": "stdout",
       "text": [
        "remote: Compressing objects:  91% (2629/2889)   \u001b[K\r"
       ]
      },
      {
       "output_type": "stream",
       "stream": "stdout",
       "text": [
        "remote: Compressing objects:  92% (2658/2889)   \u001b[K\r",
        "remote: Compressing objects:  93% (2687/2889)   \u001b[K\r",
        "remote: Compressing objects:  94% (2716/2889)   \u001b[K\r"
       ]
      },
      {
       "output_type": "stream",
       "stream": "stdout",
       "text": [
        "remote: Compressing objects:  95% (2745/2889)   \u001b[K\r",
        "remote: Compressing objects:  96% (2774/2889)   \u001b[K\r",
        "remote: Compressing objects:  97% (2803/2889)   \u001b[K\r"
       ]
      },
      {
       "output_type": "stream",
       "stream": "stdout",
       "text": [
        "remote: Compressing objects:  98% (2832/2889)   \u001b[K\r"
       ]
      },
      {
       "output_type": "stream",
       "stream": "stdout",
       "text": [
        "remote: Compressing objects:  99% (2861/2889)   \u001b[K\r"
       ]
      },
      {
       "output_type": "stream",
       "stream": "stdout",
       "text": [
        "remote: Compressing objects:  99% (2873/2889)   \u001b[K\r"
       ]
      },
      {
       "output_type": "stream",
       "stream": "stdout",
       "text": [
        "remote: Compressing objects:  99% (2883/2889)   \u001b[K\r"
       ]
      },
      {
       "output_type": "stream",
       "stream": "stdout",
       "text": [
        "remote: Compressing objects: 100% (2889/2889)   \u001b[K\r"
       ]
      },
      {
       "output_type": "stream",
       "stream": "stdout",
       "text": [
        "remote: Compressing objects: 100% (2889/2889), done.\u001b[K\r\n",
        "Receiving objects:   0% (1/8010)   \r",
        "Receiving objects:   1% (81/8010)   \r",
        "Receiving objects:   2% (161/8010)   \r",
        "Receiving objects:   3% (241/8010)   \r",
        "Receiving objects:   4% (321/8010)   \r",
        "Receiving objects:   5% (401/8010)   \r",
        "Receiving objects:   6% (481/8010)   \r",
        "Receiving objects:   7% (561/8010)   \r"
       ]
      },
      {
       "output_type": "stream",
       "stream": "stdout",
       "text": [
        "Receiving objects:   8% (641/8010)   \r",
        "Receiving objects:   9% (721/8010)   \r",
        "Receiving objects:  10% (801/8010)   \r",
        "Receiving objects:  11% (882/8010)   \r",
        "Receiving objects:  12% (962/8010)   \r",
        "Receiving objects:  13% (1042/8010)   \r",
        "Receiving objects:  14% (1122/8010)   \r",
        "Receiving objects:  15% (1202/8010)   \r",
        "Receiving objects:  16% (1282/8010)   \r",
        "Receiving objects:  17% (1362/8010)   \r",
        "Receiving objects:  18% (1442/8010)   \r",
        "Receiving objects:  19% (1522/8010)   \r",
        "Receiving objects:  20% (1602/8010)   \r",
        "Receiving objects:  21% (1683/8010)   \r",
        "Receiving objects:  22% (1763/8010)   \r",
        "Receiving objects:  23% (1843/8010)   \r",
        "Receiving objects:  24% (1923/8010)   \r",
        "Receiving objects:  25% (2003/8010)   \r",
        "Receiving objects:  26% (2083/8010)   \r",
        "Receiving objects:  27% (2163/8010)   \r",
        "Receiving objects:  28% (2243/8010)   \r",
        "Receiving objects:  29% (2323/8010)   \r",
        "Receiving objects:  30% (2403/8010)   \r"
       ]
      },
      {
       "output_type": "stream",
       "stream": "stdout",
       "text": [
        "Receiving objects:  31% (2484/8010)   \r"
       ]
      },
      {
       "output_type": "stream",
       "stream": "stdout",
       "text": [
        "Receiving objects:  32% (2564/8010), 2.36 MiB | 4.70 MiB/s   \r",
        "Receiving objects:  33% (2644/8010), 2.36 MiB | 4.70 MiB/s   \r",
        "Receiving objects:  34% (2724/8010), 2.36 MiB | 4.70 MiB/s   \r",
        "Receiving objects:  35% (2804/8010), 2.36 MiB | 4.70 MiB/s   \r",
        "Receiving objects:  36% (2884/8010), 2.36 MiB | 4.70 MiB/s   \r",
        "Receiving objects:  37% (2964/8010), 2.36 MiB | 4.70 MiB/s   \r",
        "Receiving objects:  38% (3044/8010), 2.36 MiB | 4.70 MiB/s   \r",
        "Receiving objects:  39% (3124/8010), 2.36 MiB | 4.70 MiB/s   \r"
       ]
      },
      {
       "output_type": "stream",
       "stream": "stdout",
       "text": [
        "Receiving objects:  40% (3204/8010), 2.36 MiB | 4.70 MiB/s   \r",
        "Receiving objects:  41% (3285/8010), 2.36 MiB | 4.70 MiB/s   \r"
       ]
      },
      {
       "output_type": "stream",
       "stream": "stdout",
       "text": [
        "Receiving objects:  42% (3365/8010), 2.36 MiB | 4.70 MiB/s   \r",
        "Receiving objects:  43% (3445/8010), 2.36 MiB | 4.70 MiB/s   \r",
        "Receiving objects:  44% (3525/8010), 2.36 MiB | 4.70 MiB/s   \r",
        "Receiving objects:  45% (3605/8010), 2.36 MiB | 4.70 MiB/s   \r",
        "Receiving objects:  46% (3685/8010), 2.36 MiB | 4.70 MiB/s   \r",
        "Receiving objects:  47% (3765/8010), 2.36 MiB | 4.70 MiB/s   \r",
        "Receiving objects:  48% (3845/8010), 2.36 MiB | 4.70 MiB/s   \r",
        "Receiving objects:  49% (3925/8010), 2.36 MiB | 4.70 MiB/s   \r",
        "Receiving objects:  50% (4005/8010), 2.36 MiB | 4.70 MiB/s   \r"
       ]
      },
      {
       "output_type": "stream",
       "stream": "stdout",
       "text": [
        "Receiving objects:  51% (4086/8010), 2.36 MiB | 4.70 MiB/s   \r"
       ]
      },
      {
       "output_type": "stream",
       "stream": "stdout",
       "text": [
        "Receiving objects:  51% (4119/8010), 17.59 MiB | 17.55 MiB/s   \r",
        "Receiving objects:  52% (4166/8010), 17.59 MiB | 17.55 MiB/s   \r",
        "Receiving objects:  53% (4246/8010), 17.59 MiB | 17.55 MiB/s   \r",
        "Receiving objects:  54% (4326/8010), 17.59 MiB | 17.55 MiB/s   \r",
        "Receiving objects:  55% (4406/8010), 17.59 MiB | 17.55 MiB/s   \r",
        "Receiving objects:  56% (4486/8010), 17.59 MiB | 17.55 MiB/s   \r",
        "Receiving objects:  57% (4566/8010), 17.59 MiB | 17.55 MiB/s   \r"
       ]
      },
      {
       "output_type": "stream",
       "stream": "stdout",
       "text": [
        "Receiving objects:  58% (4646/8010), 17.59 MiB | 17.55 MiB/s   \r",
        "Receiving objects:  59% (4726/8010), 17.59 MiB | 17.55 MiB/s   \r",
        "Receiving objects:  60% (4806/8010), 17.59 MiB | 17.55 MiB/s   \r"
       ]
      },
      {
       "output_type": "stream",
       "stream": "stdout",
       "text": [
        "Receiving objects:  61% (4887/8010), 17.59 MiB | 17.55 MiB/s   \r"
       ]
      },
      {
       "output_type": "stream",
       "stream": "stdout",
       "text": [
        "Receiving objects:  62% (4967/8010), 17.59 MiB | 17.55 MiB/s   \r"
       ]
      },
      {
       "output_type": "stream",
       "stream": "stdout",
       "text": [
        "Receiving objects:  63% (5047/8010), 17.59 MiB | 17.55 MiB/s   \r"
       ]
      },
      {
       "output_type": "stream",
       "stream": "stdout",
       "text": [
        "Receiving objects:  64% (5127/8010), 17.59 MiB | 17.55 MiB/s   \r",
        "Receiving objects:  65% (5207/8010), 17.59 MiB | 17.55 MiB/s   \r"
       ]
      },
      {
       "output_type": "stream",
       "stream": "stdout",
       "text": [
        "Receiving objects:  66% (5287/8010), 17.59 MiB | 17.55 MiB/s   \r",
        "Receiving objects:  67% (5367/8010), 17.59 MiB | 17.55 MiB/s   \r",
        "Receiving objects:  68% (5447/8010), 17.59 MiB | 17.55 MiB/s   \r",
        "Receiving objects:  69% (5527/8010), 17.59 MiB | 17.55 MiB/s   \r",
        "Receiving objects:  70% (5607/8010), 17.59 MiB | 17.55 MiB/s   \r"
       ]
      },
      {
       "output_type": "stream",
       "stream": "stdout",
       "text": [
        "Receiving objects:  71% (5688/8010), 17.59 MiB | 17.55 MiB/s   \r",
        "Receiving objects:  72% (5768/8010), 17.59 MiB | 17.55 MiB/s   \r",
        "Receiving objects:  73% (5848/8010), 17.59 MiB | 17.55 MiB/s   \r",
        "Receiving objects:  74% (5928/8010), 17.59 MiB | 17.55 MiB/s   \r",
        "Receiving objects:  75% (6008/8010), 17.59 MiB | 17.55 MiB/s   \r",
        "Receiving objects:  76% (6088/8010), 17.59 MiB | 17.55 MiB/s   \r",
        "Receiving objects:  77% (6168/8010), 17.59 MiB | 17.55 MiB/s   \r",
        "Receiving objects:  78% (6248/8010), 17.59 MiB | 17.55 MiB/s   \r",
        "Receiving objects:  79% (6328/8010), 17.59 MiB | 17.55 MiB/s   \r",
        "Receiving objects:  80% (6408/8010), 17.59 MiB | 17.55 MiB/s   \r",
        "Receiving objects:  81% (6489/8010), 17.59 MiB | 17.55 MiB/s   \r",
        "Receiving objects:  82% (6569/8010), 17.59 MiB | 17.55 MiB/s   \r",
        "Receiving objects:  83% (6649/8010), 17.59 MiB | 17.55 MiB/s   \r",
        "Receiving objects:  84% (6729/8010), 17.59 MiB | 17.55 MiB/s   \r",
        "Receiving objects:  85% (6809/8010), 17.59 MiB | 17.55 MiB/s   \r"
       ]
      },
      {
       "output_type": "stream",
       "stream": "stdout",
       "text": [
        "Receiving objects:  86% (6889/8010), 17.59 MiB | 17.55 MiB/s   \r",
        "Receiving objects:  87% (6969/8010), 17.59 MiB | 17.55 MiB/s   \r",
        "Receiving objects:  88% (7049/8010), 17.59 MiB | 17.55 MiB/s   \r",
        "Receiving objects:  89% (7129/8010), 17.59 MiB | 17.55 MiB/s   \r"
       ]
      },
      {
       "output_type": "stream",
       "stream": "stdout",
       "text": [
        "Receiving objects:  90% (7209/8010), 43.58 MiB | 28.99 MiB/s   \r"
       ]
      },
      {
       "output_type": "stream",
       "stream": "stdout",
       "text": [
        "Receiving objects:  91% (7290/8010), 43.58 MiB | 28.99 MiB/s   \r",
        "Receiving objects:  92% (7370/8010), 43.58 MiB | 28.99 MiB/s   \r",
        "Receiving objects:  93% (7450/8010), 43.58 MiB | 28.99 MiB/s   \r",
        "Receiving objects:  94% (7530/8010), 43.58 MiB | 28.99 MiB/s   \r",
        "Receiving objects:  95% (7610/8010), 43.58 MiB | 28.99 MiB/s   \r",
        "Receiving objects:  96% (7690/8010), 43.58 MiB | 28.99 MiB/s   \r"
       ]
      },
      {
       "output_type": "stream",
       "stream": "stdout",
       "text": [
        "Receiving objects:  97% (7770/8010), 43.58 MiB | 28.99 MiB/s   \r"
       ]
      },
      {
       "output_type": "stream",
       "stream": "stdout",
       "text": [
        "Receiving objects:  97% (7781/8010), 68.25 MiB | 34.05 MiB/s   \r"
       ]
      },
      {
       "output_type": "stream",
       "stream": "stdout",
       "text": [
        "remote: Total 8010 (delta 5757), reused 7107 (delta 5013)\u001b[K\r\n",
        "Receiving objects:  98% (7850/8010), 68.25 MiB | 34.05 MiB/s   \r",
        "Receiving objects:  99% (7930/8010), 68.25 MiB | 34.05 MiB/s   \r",
        "Receiving objects: 100% (8010/8010), 68.25 MiB | 34.05 MiB/s   \r",
        "Receiving objects: 100% (8010/8010), 85.46 MiB | 34.05 MiB/s, done.\r\n",
        "Resolving deltas:   0% (0/5757)   \r",
        "Resolving deltas:   1% (105/5757)   \r",
        "Resolving deltas:   2% (124/5757)   \r",
        "Resolving deltas:   3% (175/5757)   \r",
        "Resolving deltas:   4% (259/5757)   \r",
        "Resolving deltas:   5% (307/5757)   \r",
        "Resolving deltas:   6% (360/5757)   \r",
        "Resolving deltas:   7% (406/5757)   \r"
       ]
      },
      {
       "output_type": "stream",
       "stream": "stdout",
       "text": [
        "Resolving deltas:  10% (615/5757)   \r",
        "Resolving deltas:  11% (634/5757)   \r",
        "Resolving deltas:  12% (692/5757)   \r",
        "Resolving deltas:  13% (764/5757)   \r",
        "Resolving deltas:  14% (810/5757)   \r",
        "Resolving deltas:  15% (898/5757)   \r",
        "Resolving deltas:  16% (930/5757)   \r",
        "Resolving deltas:  17% (988/5757)   \r",
        "Resolving deltas:  18% (1043/5757)   \r",
        "Resolving deltas:  19% (1116/5757)   \r",
        "Resolving deltas:  20% (1158/5757)   \r",
        "Resolving deltas:  21% (1249/5757)   \r",
        "Resolving deltas:  23% (1353/5757)   \r",
        "Resolving deltas:  24% (1404/5757)   \r",
        "Resolving deltas:  25% (1458/5757)   \r",
        "Resolving deltas:  26% (1547/5757)   \r",
        "Resolving deltas:  28% (1617/5757)   \r",
        "Resolving deltas:  29% (1683/5757)   \r",
        "Resolving deltas:  30% (1732/5757)   \r",
        "Resolving deltas:  31% (1802/5757)   \r"
       ]
      },
      {
       "output_type": "stream",
       "stream": "stdout",
       "text": [
        "Resolving deltas:  32% (1848/5757)   \r",
        "Resolving deltas:  33% (1900/5757)   \r",
        "Resolving deltas:  37% (2138/5757)   \r",
        "Resolving deltas:  38% (2194/5757)   \r",
        "Resolving deltas:  39% (2252/5757)   \r",
        "Resolving deltas:  40% (2317/5757)   \r",
        "Resolving deltas:  41% (2396/5757)   \r",
        "Resolving deltas:  43% (2507/5757)   \r",
        "Resolving deltas:  44% (2534/5757)   \r",
        "Resolving deltas:  45% (2603/5757)   \r",
        "Resolving deltas:  46% (2657/5757)   \r",
        "Resolving deltas:  47% (2722/5757)   \r",
        "Resolving deltas:  48% (2786/5757)   \r",
        "Resolving deltas:  49% (2825/5757)   \r",
        "Resolving deltas:  50% (2913/5757)   \r",
        "Resolving deltas:  51% (2949/5757)   \r",
        "Resolving deltas:  52% (2995/5757)   \r",
        "Resolving deltas:  53% (3066/5757)   \r",
        "Resolving deltas:  54% (3121/5757)   \r",
        "Resolving deltas:  55% (3181/5757)   \r"
       ]
      },
      {
       "output_type": "stream",
       "stream": "stdout",
       "text": [
        "Resolving deltas:  56% (3225/5757)   \r",
        "Resolving deltas:  57% (3301/5757)   \r",
        "Resolving deltas:  58% (3354/5757)   \r",
        "Resolving deltas:  59% (3398/5757)   \r",
        "Resolving deltas:  60% (3475/5757)   \r",
        "Resolving deltas:  61% (3521/5757)   \r",
        "Resolving deltas:  62% (3576/5757)   \r",
        "Resolving deltas:  64% (3697/5757)   \r",
        "Resolving deltas:  66% (3829/5757)   \r",
        "Resolving deltas:  67% (3870/5757)   \r",
        "Resolving deltas:  72% (4158/5757)   \r",
        "Resolving deltas:  73% (4206/5757)   \r",
        "Resolving deltas:  74% (4267/5757)   \r",
        "Resolving deltas:  75% (4343/5757)   \r"
       ]
      },
      {
       "output_type": "stream",
       "stream": "stdout",
       "text": [
        "Resolving deltas:  76% (4421/5757)   \r",
        "Resolving deltas:  77% (4474/5757)   \r",
        "Resolving deltas:  78% (4523/5757)   \r",
        "Resolving deltas:  79% (4549/5757)   \r",
        "Resolving deltas:  80% (4610/5757)   \r",
        "Resolving deltas:  81% (4666/5757)   \r",
        "Resolving deltas:  82% (4723/5757)   \r",
        "Resolving deltas:  83% (4806/5757)   \r",
        "Resolving deltas:  84% (4857/5757)   \r"
       ]
      },
      {
       "output_type": "stream",
       "stream": "stdout",
       "text": [
        "Resolving deltas:  86% (4974/5757)   \r",
        "Resolving deltas:  87% (5013/5757)   \r",
        "Resolving deltas:  88% (5067/5757)   \r",
        "Resolving deltas:  89% (5127/5757)   \r",
        "Resolving deltas:  90% (5190/5757)   \r",
        "Resolving deltas:  91% (5239/5757)   \r",
        "Resolving deltas:  92% (5327/5757)   \r",
        "Resolving deltas:  93% (5370/5757)   \r",
        "Resolving deltas:  94% (5422/5757)   \r"
       ]
      },
      {
       "output_type": "stream",
       "stream": "stdout",
       "text": [
        "Resolving deltas:  95% (5500/5757)   \r",
        "Resolving deltas:  96% (5527/5757)   \r",
        "Resolving deltas:  97% (5629/5757)   \r",
        "Resolving deltas:  98% (5642/5757)   \r",
        "Resolving deltas:  99% (5717/5757)   \r",
        "Resolving deltas: 100% (5757/5757)   \r",
        "Resolving deltas: 100% (5757/5757), done.\r\n",
        "Checking connectivity... "
       ]
      },
      {
       "output_type": "stream",
       "stream": "stdout",
       "text": [
        "done.\r\n"
       ]
      }
     ],
     "prompt_number": 3
    },
    {
     "cell_type": "markdown",
     "metadata": {},
     "source": [
      "Now we've cloned only the `filter_splicing_on_expression` branch "
     ]
    },
    {
     "cell_type": "code",
     "collapsed": false,
     "input": [
      "cd /Users/olga/workspace-git/flotilla"
     ],
     "language": "python",
     "metadata": {},
     "outputs": [
      {
       "output_type": "stream",
       "stream": "stdout",
       "text": [
        "/Users/olga/workspace-git/flotilla\n"
       ]
      }
     ],
     "prompt_number": 6
    },
    {
     "cell_type": "code",
     "collapsed": false,
     "input": [
      "ls"
     ],
     "language": "python",
     "metadata": {},
     "outputs": [
      {
       "output_type": "stream",
       "stream": "stdout",
       "text": [
        "CONTRIBUTING.md   LICENSE           README.md         ROADMAP.md        \u001b[1m\u001b[36mdoc\u001b[m\u001b[m/              \u001b[1m\u001b[36mexamples\u001b[m\u001b[m/         flotilla.png      setup.cfg         talks.md\r\n",
        "INSTALL.md        Makefile          README.rst        TODO.md           \u001b[1m\u001b[36mdocker\u001b[m\u001b[m/           \u001b[1m\u001b[36mflotilla\u001b[m\u001b[m/         requirements.txt  setup.py          \u001b[1m\u001b[36mtesting\u001b[m\u001b[m/\r\n"
       ]
      }
     ],
     "prompt_number": 7
    },
    {
     "cell_type": "code",
     "collapsed": false,
     "input": [
      "! git status"
     ],
     "language": "python",
     "metadata": {},
     "outputs": [
      {
       "output_type": "stream",
       "stream": "stdout",
       "text": [
        "On branch master\r\n",
        "Your branch is up-to-date with 'origin/master'.\r\n",
        "\r\n",
        "nothing to commit, working directory clean\r\n"
       ]
      }
     ],
     "prompt_number": 11
    },
    {
     "cell_type": "markdown",
     "metadata": {},
     "source": [
      "Now let's check out the \"shared branch\" I made in `~/Dropbox/ipython/flotilla/filter_splicing_on_expression/`."
     ]
    },
    {
     "cell_type": "code",
     "collapsed": false,
     "input": [
      "cd /Users/olga/Dropbox/ipython/flotilla/filter_splicing_on_expression/"
     ],
     "language": "python",
     "metadata": {},
     "outputs": [
      {
       "output_type": "stream",
       "stream": "stdout",
       "text": [
        "/Users/olga/Dropbox/ipython/flotilla/filter_splicing_on_expression\n"
       ]
      }
     ],
     "prompt_number": 12
    },
    {
     "cell_type": "code",
     "collapsed": false,
     "input": [
      "ls"
     ],
     "language": "python",
     "metadata": {},
     "outputs": [
      {
       "output_type": "stream",
       "stream": "stdout",
       "text": [
        "CONTRIBUTING.md   LICENSE           README.md         ROADMAP.md        \u001b[1m\u001b[36mdoc\u001b[m\u001b[m/              \u001b[1m\u001b[36mexamples\u001b[m\u001b[m/         flotilla.png      setup.cfg         talks.md\r\n",
        "INSTALL.md        Makefile          README.rst        TODO.md           \u001b[1m\u001b[36mdocker\u001b[m\u001b[m/           \u001b[1m\u001b[36mflotilla\u001b[m\u001b[m/         requirements.txt  setup.py          \u001b[1m\u001b[36mtesting\u001b[m\u001b[m/\r\n"
       ]
      }
     ],
     "prompt_number": 13
    },
    {
     "cell_type": "code",
     "collapsed": false,
     "input": [
      "! git status"
     ],
     "language": "python",
     "metadata": {},
     "outputs": [
      {
       "output_type": "stream",
       "stream": "stdout",
       "text": [
        "On branch filter_splicing_on_expression\r\n",
        "Your branch is up-to-date with 'origin/filter_splicing_on_expression'.\r\n",
        "\r\n",
        "nothing to commit, working directory clean\r\n"
       ]
      }
     ],
     "prompt_number": 14
    },
    {
     "cell_type": "markdown",
     "metadata": {},
     "source": [
      "This folder has just the branch I want! And, as Paul pointed out, since the package I want, `flotilla`, exists in the local directory of the notebook, the local one gets imported first!\n",
      "\n",
      "<blockquote class=\"twitter-tweet\" data-conversation=\"none\" lang=\"en\"><p><a href=\"https://twitter.com/olgabot\">@olgabot</a> <a href=\"https://twitter.com/IPythonDev\">@IPythonDev</a> so if you `mkdir a b; touch a/c.py b/c.py` and start a notebook in subdir a, `import c` will import a/c.py</p>&mdash; Paul Ivanov (@ivanov) <a href=\"https://twitter.com/ivanov/status/532290941265006592\">November 11, 2014</a></blockquote>\n",
      "<script async src=\"//platform.twitter.com/widgets.js\" charset=\"utf-8\"></script>\n",
      "\n",
      "I run most of my IPython notebooks from `~/Dropbox/ipython`, so I already had a notebook instance running, and I could see all my flotilla  directories in the notebook.\n",
      "\n",
      "![](http://i.imgur.com/s0OEiKp.png)\n",
      "\n",
      "And now I can work on individual feature branches without worrying that they're colliding! Thanks [Paul](https://twitter.com/ivanov)! I was amazed by this when I found out and wanted to share. I hope this helped you!"
     ]
    }
   ],
   "metadata": {}
  }
 ]
}